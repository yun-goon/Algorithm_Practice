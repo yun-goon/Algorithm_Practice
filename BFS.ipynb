{
 "cells": [
  {
   "cell_type": "code",
   "execution_count": 1,
   "metadata": {},
   "outputs": [],
   "source": [
    "from collections import deque"
   ]
  },
  {
   "cell_type": "code",
   "execution_count": null,
   "metadata": {},
   "outputs": [],
   "source": [
    "V = int(input())\n",
    "E = int(input())\n",
    "adj_lst = [[] for _ in range(V+1)]\n",
    "\n",
    "for _ in range(E):\n",
    "    s,e = map(int, input().split())\n",
    "    adj_lst[s].append(e)\n",
    "    adj_lst[e].append(s)\n",
    "print(adj_lst)"
   ]
  },
  {
   "cell_type": "code",
   "execution_count": null,
   "metadata": {},
   "outputs": [],
   "source": [
    "visited = set([1])\n",
    "queue = deque([1])"
   ]
  },
  {
   "cell_type": "code",
   "execution_count": null,
   "metadata": {},
   "outputs": [],
   "source": [
    "while queue:\n",
    "    cur = queue.popleft()\n",
    "\n",
    "    for nxt in adj_lst[cur]:\n",
    "        if nxt in visited:\n",
    "            continue\n",
    "\n",
    "        visited.add(nxt)\n",
    "        queue.append(nxt)"
   ]
  },
  {
   "cell_type": "code",
   "execution_count": null,
   "metadata": {},
   "outputs": [],
   "source": []
  }
 ],
 "metadata": {
  "kernelspec": {
   "display_name": "base",
   "language": "python",
   "name": "python3"
  },
  "language_info": {
   "codemirror_mode": {
    "name": "ipython",
    "version": 3
   },
   "file_extension": ".py",
   "mimetype": "text/x-python",
   "name": "python",
   "nbconvert_exporter": "python",
   "pygments_lexer": "ipython3",
   "version": "3.11.4"
  }
 },
 "nbformat": 4,
 "nbformat_minor": 2
}
