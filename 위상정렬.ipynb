{
 "cells": [
  {
   "cell_type": "code",
   "execution_count": 1,
   "metadata": {},
   "outputs": [
    {
     "name": "stdout",
     "output_type": "stream",
     "text": [
      "['F', 'H', 'A', 'D', 'C', 'G', 'B', 'E']\n"
     ]
    }
   ],
   "source": [
    "# 의의\n",
    "    # 순서가 있는 task 들을 그 순서를 어기지 않고 일렬로 정리하는 알고리즘\n",
    "    # 사이클이 없는, 일방향 그래프 -> 트리는 싸이클이 없기 때문에 어느 정도 응용 가능\n",
    "    # 진입 차수 개념을 활용 -? 진입 차수가 0이면 할 수 있는 일\n",
    "    # 방문과 탐색이라는 기초 그래프 탐색 로직을 응용해서 구현\n",
    "\n",
    "# 로직\n",
    "from collections import deque\n",
    "    # 그래프 구조화 (인접 행렬, 인접 리스트, 딕셔너리) + 진입 차수를 기록\n",
    "\n",
    "adj = {'A' : ['B', 'G'],\n",
    "       'B' : ['E'],\n",
    "       'C' : ['B'],\n",
    "       'D' : ['B'],\n",
    "       'E' : [],\n",
    "       'F' : ['A', 'D'],\n",
    "       'G' : ['E'],\n",
    "       'H' : ['D','C']}\n",
    "\n",
    "in_degree = {'A' : 1, 'B' : 3, 'C' : 1, 'D' : 2, 'E':2, 'F':0, 'G':1, 'H' : 0}\n",
    "\n",
    "# 세팅\n",
    "queue = deque([node for node in in_degree if not in_degree[node]]) # 차수가 0인곳들 방문 예정지 넣음\n",
    "trail = []\n",
    "\n",
    "while queue:\n",
    "# 방문\n",
    "    cur = queue.popleft()\n",
    "    trail.append(cur) # 방문한곳 표시\n",
    "\n",
    "# 탐색\n",
    "    for nxt in adj[cur]:\n",
    "        in_degree[nxt] -= 1 # 진입 차수를 하나씩 깎아줌\n",
    "        if in_degree[nxt] == 0: #깎아서 차수가 0이면,\n",
    "            queue.append(nxt) # 갈수있는곳이기 때문에 방문 예정지에 넣음\n",
    "\n",
    "print(trail)\n",
    "\n",
    "\n"
   ]
  }
 ],
 "metadata": {
  "kernelspec": {
   "display_name": "base",
   "language": "python",
   "name": "python3"
  },
  "language_info": {
   "codemirror_mode": {
    "name": "ipython",
    "version": 3
   },
   "file_extension": ".py",
   "mimetype": "text/x-python",
   "name": "python",
   "nbconvert_exporter": "python",
   "pygments_lexer": "ipython3",
   "version": "3.11.4"
  }
 },
 "nbformat": 4,
 "nbformat_minor": 2
}
