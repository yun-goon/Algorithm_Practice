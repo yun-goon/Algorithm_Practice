{
 "cells": [
  {
   "cell_type": "markdown",
   "metadata": {},
   "source": [
    "순열"
   ]
  },
  {
   "cell_type": "code",
   "execution_count": null,
   "metadata": {},
   "outputs": [],
   "source": [
    "visited = [0] * 3\n",
    "arr = ['A', 'B', 'C']\n",
    "ans = [0] * 3\n",
    "\n",
    "def perm(depth):\n",
    "    if depth == 3: # 세개를 다 뽑았으면?\n",
    "        print(*ans) # 출력하고 리턴\n",
    "        return\n",
    "    \n",
    "    for i in range(3):  #아직 다 안뽑았으면 다음 뽑을 것 탐색\n",
    "        if not visited[i]: # 아직 선택 안한 원소라면?\n",
    "            ans[depth] = arr[i] # 정답에 집어넣고\n",
    "            visited[i] = 1 # 방문 표시하고\n",
    "            perm(depth + 1) # 다음 댑스로\n",
    "            visited[i] = 0 # 리턴됐을 때, 방문 표시 해제\n",
    "\n",
    "perm(0) # 0번 댑스부터 시작\n"
   ]
  },
  {
   "cell_type": "markdown",
   "metadata": {},
   "source": [
    "중복 순열"
   ]
  },
  {
   "cell_type": "code",
   "execution_count": 2,
   "metadata": {},
   "outputs": [
    {
     "name": "stdout",
     "output_type": "stream",
     "text": [
      "A A A\n",
      "A A B\n",
      "A A C\n",
      "A B A\n",
      "A B B\n",
      "A B C\n",
      "A C A\n",
      "A C B\n",
      "A C C\n",
      "B A A\n",
      "B A B\n",
      "B A C\n",
      "B B A\n",
      "B B B\n",
      "B B C\n",
      "B C A\n",
      "B C B\n",
      "B C C\n",
      "C A A\n",
      "C A B\n",
      "C A C\n",
      "C B A\n",
      "C B B\n",
      "C B C\n",
      "C C A\n",
      "C C B\n",
      "C C C\n"
     ]
    }
   ],
   "source": [
    "arr = ['A', 'B', 'C']\n",
    "ans = [0] * 3\n",
    "\n",
    "def product(depth):\n",
    "    if depth == 3: \n",
    "        print(*ans) \n",
    "        return\n",
    "    \n",
    "    for i in range(3): \n",
    "        ans[depth] = arr[i]\n",
    "        product(depth + 1) \n",
    "\n",
    "product(0) \n"
   ]
  },
  {
   "cell_type": "markdown",
   "metadata": {},
   "source": [
    "조합\n",
    "뽑으면 끝\n",
    "1, 2 = 2, 1\n",
    "앞에서 선택한 인덱스 뒤로 선택(위에서 뭐뽑았는지 확인)\n"
   ]
  },
  {
   "cell_type": "code",
   "execution_count": 7,
   "metadata": {},
   "outputs": [
    {
     "name": "stdout",
     "output_type": "stream",
     "text": [
      "A B C\n",
      "A B D\n",
      "A B E\n",
      "A C D\n",
      "A C E\n",
      "A D E\n",
      "B C D\n",
      "B C E\n",
      "B D E\n",
      "C D E\n"
     ]
    }
   ],
   "source": [
    "visited = [0] * 5\n",
    "arr = ['A', 'B', 'C','D', 'E']\n",
    "ans = [0] * 3\n",
    "\n",
    "\n",
    "def perm(depth, idx):\n",
    "    if depth == 3: \n",
    "        print(*ans) \n",
    "        return\n",
    "    \n",
    "    for i in range(idx, 5): \n",
    "        if not visited[i]:\n",
    "            ans[depth] = arr[i]\n",
    "            visited[i] = 1 \n",
    "            perm(depth + 1, i) \n",
    "            visited[i] = 0 \n",
    "\n",
    "perm(0,0) \n"
   ]
  },
  {
   "cell_type": "markdown",
   "metadata": {},
   "source": [
    "중복 조합\n",
    "ex : 메뉴 선택 등"
   ]
  },
  {
   "cell_type": "code",
   "execution_count": 8,
   "metadata": {},
   "outputs": [
    {
     "name": "stdout",
     "output_type": "stream",
     "text": [
      "A A A\n",
      "A A B\n",
      "A A C\n",
      "A A D\n",
      "A A E\n",
      "A B B\n",
      "A B C\n",
      "A B D\n",
      "A B E\n",
      "A C C\n",
      "A C D\n",
      "A C E\n",
      "A D D\n",
      "A D E\n",
      "A E E\n",
      "B B B\n",
      "B B C\n",
      "B B D\n",
      "B B E\n",
      "B C C\n",
      "B C D\n",
      "B C E\n",
      "B D D\n",
      "B D E\n",
      "B E E\n",
      "C C C\n",
      "C C D\n",
      "C C E\n",
      "C D D\n",
      "C D E\n",
      "C E E\n",
      "D D D\n",
      "D D E\n",
      "D E E\n",
      "E E E\n"
     ]
    }
   ],
   "source": [
    "arr = ['A', 'B', 'C','D', 'E']\n",
    "ans = [0] * 3\n",
    "\n",
    "\n",
    "def perm(depth, idx):\n",
    "    if depth == 3: \n",
    "        print(*ans) \n",
    "        return\n",
    "    \n",
    "    for i in range(idx, 5): \n",
    "        ans[depth] = arr[i]\n",
    "        perm(depth + 1, i) \n",
    "\n",
    "perm(0,0) \n"
   ]
  }
 ],
 "metadata": {
  "kernelspec": {
   "display_name": "base",
   "language": "python",
   "name": "python3"
  },
  "language_info": {
   "codemirror_mode": {
    "name": "ipython",
    "version": 3
   },
   "file_extension": ".py",
   "mimetype": "text/x-python",
   "name": "python",
   "nbconvert_exporter": "python",
   "pygments_lexer": "ipython3",
   "version": "3.11.4"
  }
 },
 "nbformat": 4,
 "nbformat_minor": 2
}
