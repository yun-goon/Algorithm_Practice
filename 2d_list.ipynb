{
 "cells": [
  {
   "cell_type": "code",
   "execution_count": null,
   "metadata": {},
   "outputs": [],
   "source": [
    "# 2차원 리스트 입력받기\n",
    "\n",
    "# N개의 행, M 열 공백기준\n",
    "\n",
    "N, M = map(int, input().split())\n",
    "\n",
    "matrix = [list(map(int, input().split())) for _ in range(N)]\n",
    "\n",
    "\n"
   ]
  },
  {
   "cell_type": "code",
   "execution_count": null,
   "metadata": {},
   "outputs": [],
   "source": [
    "# 빈 1차원 리스트 생성\n",
    "\n",
    "nums = [0 for _ in range(N)] # 빈 1차원 리스트\n",
    "nums = [0] * N # 빈 1차원 리스트"
   ]
  },
  {
   "cell_type": "code",
   "execution_count": 6,
   "metadata": {},
   "outputs": [
    {
     "name": "stdout",
     "output_type": "stream",
     "text": [
      "[[0, 0, 0], [0, 0, 0], [0, 0, 0]]\n"
     ]
    }
   ],
   "source": [
    "# 빈 2차원 리스트 생성\n",
    "\n",
    "N =3\n",
    "M = 3\n",
    "matrix = [[0 for _ in range(N)] for _ in range(M)]\n",
    "print(matrix)"
   ]
  },
  {
   "cell_type": "code",
   "execution_count": 7,
   "metadata": {},
   "outputs": [
    {
     "name": "stdout",
     "output_type": "stream",
     "text": [
      "[[5, 0, 0], [0, 0, 0], [0, 0, 0]]\n"
     ]
    }
   ],
   "source": [
    "matrix[0][0] = 5\n",
    "print(matrix)"
   ]
  },
  {
   "cell_type": "code",
   "execution_count": null,
   "metadata": {},
   "outputs": [],
   "source": [
    "#1차원 리스트 복사\n",
    "\n",
    "nums = [1,2,3,4,5]\n",
    "copy_list = list(nums)\n",
    "copy_list = nums[:]\n"
   ]
  },
  {
   "cell_type": "code",
   "execution_count": 8,
   "metadata": {},
   "outputs": [
    {
     "name": "stdout",
     "output_type": "stream",
     "text": [
      "[[1, 2, 3], [4, 5, 6], [7, 8, 9]]\n"
     ]
    }
   ],
   "source": [
    "# 2차원 리스트의 복사\n",
    "\n",
    "matrix = [[1,2,3], [4,5,6], [7,8,9]]\n",
    "copy_matrix = matrix[:][:]\n",
    "\n",
    "print(copy_matrix)"
   ]
  },
  {
   "cell_type": "code",
   "execution_count": 9,
   "metadata": {},
   "outputs": [
    {
     "name": "stdout",
     "output_type": "stream",
     "text": [
      "[[5, 2, 3], [4, 5, 6], [7, 8, 9]]\n",
      "[[5, 2, 3], [4, 5, 6], [7, 8, 9]]\n"
     ]
    }
   ],
   "source": [
    "copy_matrix[0][0] = 5\n",
    "print(copy_matrix)\n",
    "print(matrix)"
   ]
  },
  {
   "cell_type": "code",
   "execution_count": 11,
   "metadata": {},
   "outputs": [
    {
     "data": {
      "text/plain": [
       "[[1, 2, 3], [4, 5, 6], [7, 8, 9]]"
      ]
     },
     "execution_count": 11,
     "metadata": {},
     "output_type": "execute_result"
    }
   ],
   "source": [
    "matrix = [[1,2,3], [4,5,6], [7,8,9]]\n",
    "# 얕은 복사 - 차원이 복잡해지면 쉽지않음\n",
    "copy_matrix = [i[:] for i in matrix]\n",
    "copy_matrix"
   ]
  },
  {
   "cell_type": "code",
   "execution_count": 13,
   "metadata": {},
   "outputs": [
    {
     "data": {
      "text/plain": [
       "[[1, 2, 3], [4, 5, 6], [7, 8, 9]]"
      ]
     },
     "execution_count": 13,
     "metadata": {},
     "output_type": "execute_result"
    }
   ],
   "source": [
    "# 깊은 복사\n",
    "from copy import deepcopy\n",
    "copy_matrix = deepcopy(matrix)\n",
    "copy_matrix"
   ]
  },
  {
   "cell_type": "code",
   "execution_count": 15,
   "metadata": {},
   "outputs": [
    {
     "name": "stdout",
     "output_type": "stream",
     "text": [
      "[3, 4, 8]\n",
      "[7, 2, 1]\n",
      "[9, 6, 5]\n"
     ]
    }
   ],
   "source": [
    "matrix = [[3,7,9], [4,2,6], [8,1,5]]\n",
    "\n",
    "for r in range(3):\n",
    "    for c in range(3):\n",
    "        if r > c: # r < c로 해도 됩니다.\n",
    "            matrix[r][c], matrix[c][r] = matrix[c][r], matrix[r][c]\n",
    "\n",
    "for i in range(3):\n",
    "    print(matrix[i])"
   ]
  },
  {
   "cell_type": "code",
   "execution_count": 22,
   "metadata": {},
   "outputs": [
    {
     "name": "stdout",
     "output_type": "stream",
     "text": [
      "[[3, 4, 8], [7, 2, 1], [9, 6, 5]]\n",
      "[3, 4, 8] [7, 2, 1] [9, 6, 5]\n",
      "[(3, 7, 9), (4, 2, 6), (8, 1, 5)]\n",
      "[[3, 7, 9], [4, 2, 6], [8, 1, 5]]\n"
     ]
    }
   ],
   "source": [
    "print(matrix)\n",
    "print(*matrix)\n",
    "print(list(zip(*matrix)))\n",
    "print(list(map(list, zip(*matrix))))"
   ]
  },
  {
   "cell_type": "code",
   "execution_count": null,
   "metadata": {},
   "outputs": [],
   "source": []
  }
 ],
 "metadata": {
  "kernelspec": {
   "display_name": "base",
   "language": "python",
   "name": "python3"
  },
  "language_info": {
   "codemirror_mode": {
    "name": "ipython",
    "version": 3
   },
   "file_extension": ".py",
   "mimetype": "text/x-python",
   "name": "python",
   "nbconvert_exporter": "python",
   "pygments_lexer": "ipython3",
   "version": "3.11.4"
  }
 },
 "nbformat": 4,
 "nbformat_minor": 2
}
