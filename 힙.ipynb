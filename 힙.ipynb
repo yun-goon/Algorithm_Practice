{
 "cells": [
  {
   "cell_type": "code",
   "execution_count": null,
   "metadata": {},
   "outputs": [],
   "source": [
    "# 의의\n",
    "    # 항상 최소값(최소합의 경우)만을 뽑을 수 있도록 보장된 자료구조\n",
    "    # 최단거리 알고리즘, 그리디 알고리즘 등에서 활용\n",
    "    # 완전 이진트리 구조를 이용해서 구현\n",
    "\n",
    "#로직\n",
    "    # 대원칙1 : 항상 완전 이진트리 구조를 유지할 것\n",
    "    # 대원칙2 : 항상 부모 노드 값을 자식 노드 값보다 작게 유지할 것\n",
    "    # 항상 루트 노드에는 항상 가장 작은 값이 담겨있게 된다.\n",
    "\n",
    "    # heappush \n",
    "        # 1. 새로운 데이터를 완전이진트리 가장 끝에 붙인다. (대원칙1)"
   ]
  }
 ],
 "metadata": {
  "language_info": {
   "name": "python"
  }
 },
 "nbformat": 4,
 "nbformat_minor": 2
}
