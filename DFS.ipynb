{
 "cells": [
  {
   "cell_type": "markdown",
   "metadata": {},
   "source": [
    "7 8\n",
    "1 2\n",
    "1 3\n",
    "2 4\n",
    "2 5\n",
    "4 6\n",
    "5 6\n",
    "6 7\n",
    "3 7"
   ]
  },
  {
   "cell_type": "markdown",
   "metadata": {},
   "source": [
    "인접 행렬"
   ]
  },
  {
   "cell_type": "code",
   "execution_count": null,
   "metadata": {},
   "outputs": [],
   "source": [
    "V, E = map(int, input().split())  # Vertex(포도알), Edge(선) 갯수\n",
    "\n",
    "adj_matrix = [[0] * (V + 1) for _ in range(V + 1)]  # 인접행렬 기본틀 + 0번 포도알은 안씀\n",
    "\n",
    "print(adj_matrix)\n",
    "\n",
    "for _ in range(E):  # 간선 갯수만큼 돌면서 연결 정보를 받음\n",
    "    start, end = map(int, input().split())  # 시작점과 끝점\n",
    "    adj_matrix[start][end] = 1\n",
    "    adj_matrix[end][start] = 1  # 양방향 그래프니까!!\n",
    "\n",
    "print(adj_matrix)"
   ]
  },
  {
   "cell_type": "markdown",
   "metadata": {},
   "source": [
    "인접 리스트"
   ]
  },
  {
   "cell_type": "code",
   "execution_count": 1,
   "metadata": {},
   "outputs": [
    {
     "ename": "ValueError",
     "evalue": "not enough values to unpack (expected 2, got 0)",
     "output_type": "error",
     "traceback": [
      "\u001b[1;31m---------------------------------------------------------------------------\u001b[0m",
      "\u001b[1;31mValueError\u001b[0m                                Traceback (most recent call last)",
      "Cell \u001b[1;32mIn[1], line 1\u001b[0m\n\u001b[1;32m----> 1\u001b[0m V, E \u001b[38;5;241m=\u001b[39m \u001b[38;5;28mmap\u001b[39m(\u001b[38;5;28mint\u001b[39m, \u001b[38;5;28minput\u001b[39m()\u001b[38;5;241m.\u001b[39msplit())\n\u001b[0;32m      3\u001b[0m adj_list \u001b[38;5;241m=\u001b[39m [[] \u001b[38;5;28;01mfor\u001b[39;00m _ \u001b[38;5;129;01min\u001b[39;00m \u001b[38;5;28mrange\u001b[39m(V \u001b[38;5;241m+\u001b[39m \u001b[38;5;241m1\u001b[39m)]\n\u001b[0;32m      5\u001b[0m \u001b[38;5;28;01mfor\u001b[39;00m _ \u001b[38;5;129;01min\u001b[39;00m \u001b[38;5;28mrange\u001b[39m(E):\n",
      "\u001b[1;31mValueError\u001b[0m: not enough values to unpack (expected 2, got 0)"
     ]
    }
   ],
   "source": [
    "V, E = map(int, input().split())\n",
    "\n",
    "adj_list = [[] for _ in range(V + 1)]\n",
    "\n",
    "for _ in range(E):\n",
    "    start, end = map(int, input().split())\n",
    "    adj_list[start].append(end)\n",
    "    adj_list[end].append(start)  # 양방향\n",
    "\n",
    "# adj_list = [[], [2, 3], [1, 4, 5], [1, 7], [2, 6], [2, 6], [4, 5, 7], [6, 3]]"
   ]
  },
  {
   "cell_type": "markdown",
   "metadata": {},
   "source": [
    "스택 + 인접 행렬"
   ]
  },
  {
   "cell_type": "code",
   "execution_count": null,
   "metadata": {},
   "outputs": [],
   "source": [
    "V, E = map(int, input().split())  # Vertex, Edge 갯수\n",
    "\n",
    "adj_matrix = [[0] * (V + 1) for _ in range(V + 1)]  # 인접행렬 기본틀\n",
    "\n",
    "for _ in range(E):  # 간선 갯수만큼 돌면서 연결 정보를 받음\n",
    "    start, end = map(int, input().split())  # 시작점과 끝점\n",
    "    adj_matrix[start][end] = 1\n",
    "    adj_matrix[end][start] = 1  # 양방향 그래프니까!!\n",
    "\n",
    "stack = [1]  # 맨처음 시작점은 1번 포도알\n",
    "visited = []  # 궤적 기록용\n",
    "\n",
    "while stack:  # 스택이 빌때까지 돌아라!\n",
    "    current = stack.pop()  # 우선 스택에서 현재 위치 하나 뽑고\n",
    "    if current not in visited:  # 방문하지 않은 곳이라면,\n",
    "        visited.append(current)  # 방문했다고 체크해줌\n",
    "\t\t\n",
    "\t\t# 위의 if문 안으로 넣으면 더 좋습니다.\n",
    "    for destination in range(V+1):  # current 입장에서 어디로 갈 수 있는지 모조리 체크\n",
    "        if adj_matrix[current][destination] and destination not in visited:  # 갈수있고 + 방문 안했으면!\n",
    "            stack.append(destination)  # 다음 갈 곳으로 Stack에 저장\n",
    "\n",
    "print('이동경로:', *visited)\n",
    "\n",
    "# 이동경로: 1 3 7 6 5 2 4"
   ]
  },
  {
   "cell_type": "markdown",
   "metadata": {},
   "source": [
    "스택 + 인접 리스트"
   ]
  },
  {
   "cell_type": "code",
   "execution_count": null,
   "metadata": {},
   "outputs": [],
   "source": [
    "V, E = map(int, input().split())  # Vertex, Edge 갯수\n",
    "\n",
    "adj_list = [[] for _ in range(V + 1)]  # 인접리스트 기본틀\n",
    "\n",
    "for _ in range(E):  # 간선 갯수만큼 돌면서 연결 정보를 받음\n",
    "    start, end = map(int, input().split())  # 시작점과 끝점\n",
    "    adj_list[start].append(end)\n",
    "    adj_list[end].append(start)  # 양방향 그래프니까!!\n",
    "\n",
    "stack = [1]  # 맨처음 시작점은 1번 포도알\n",
    "visited = []  # 궤적 기록용\n",
    "\n",
    "while stack:  # 스택이 빌때까지 돌아라!\n",
    "    current = stack.pop()  # 우선 스택에서 현재 위치 하나 뽑고\n",
    "    if current not in visited:  # 방문하지 않은 곳이라면,\n",
    "        visited.append(current)  # 방문했다고 체크해줌\n",
    "\n",
    "    for destination in adj_list[current]:\n",
    "        if destination not in visited:  # 갈 수 있고 + 방문 안했으면!\n",
    "            stack.append(destination)  # 다음 갈 곳으로 Stack에 저장\n",
    "\n",
    "print('이동경로:', *visited)\n",
    "\n",
    "# 이동경로: 1 3 7 6 5 2 4"
   ]
  },
  {
   "cell_type": "markdown",
   "metadata": {},
   "source": [
    "재귀 + 인접 행렬"
   ]
  },
  {
   "cell_type": "code",
   "execution_count": null,
   "metadata": {},
   "outputs": [],
   "source": [
    "def dfs(n):\n",
    "    if n not in visited:  # 우선 visited 없으면 넣어줌\n",
    "        visited.append(n)\n",
    "\n",
    "    for destination in range(V+1):\n",
    "        if adj_matrix[n][destination] and destination not in visited:\n",
    "            dfs(destination)  # 다음 재귀 깊이로 이동\n",
    "\n",
    "V, E = map(int, input().split())  # Vertex, Edge 갯수\n",
    "\n",
    "adj_matrix = [[0] * (V + 1) for _ in range(V + 1)]  # 인접행렬 기본틀\n",
    "\n",
    "for _ in range(E):  # 간선 갯수만큼 돌면서 연결 정보를 받음\n",
    "    start, end = map(int, input().split())  # 시작점과 끝점\n",
    "    adj_matrix[start][end] = 1\n",
    "    adj_matrix[end][start] = 1  # 양방향 그래프니까!!\n",
    "\n",
    "visited = []  # 궤적 기록용\n",
    "\n",
    "dfs(1)  # 1번 포도알부터 시작!\n",
    "\n",
    "print('이동경로:', *visited)\n",
    "\n",
    "# 이동경로: 1 2 4 6 5 7 3 => 이거 다른거 주의!!\n",
    "# main이 종료되어야 sub가 실행된다는 것을 생각\n",
    "# 다음 main은 이전 main의 sub임\n",
    "# (main) (sub1) (sub2) ...\n",
    "# 1\n",
    "# 1-2 / 1-3\n",
    "# 1-2-4 / 1-2-5 / 1-3\n",
    "# 1-2-4-6 / 1-2-4-5 / 1-2-5 / 1-3\n",
    "# 1-2-4-6-5 / 1-2-4-6-7 / 1-3 # main이 5를 갔으니 sub 1-2-5, sub 1-2-4-5는 시작도 못함\n",
    "# (1-2-4-6-5) / 1-2-4-6-7 / 1-3 # main 종료 및 기록됨, 이전 main 1-2-4-6이 main이 됨\n",
    "# (1-2-4-6-5)-7 / 1-3 # main이 7을 갔으니 sub 1-2-4-6-7은 시작도 못함\n",
    "# (1-2-4-6-5)-7-3 # main이 3을 갔으니 sub 1-3은 시작도 못함\n",
    "# main 종료, sub는 없음"
   ]
  },
  {
   "cell_type": "code",
   "execution_count": null,
   "metadata": {},
   "outputs": [],
   "source": [
    "from collections import deque\n",
    "\n",
    "V = int(input())\n",
    "E = int(input())\n",
    "adj_matrix = [[0]*(V+1) for _ in range(V+1)]\n",
    "\n",
    "for _ in range(E):\n",
    "    s,e = map(int, input().split())\n",
    "    adj_matrix[s][e] = 1 # 가중치 줄땐 w\n",
    "    adj_matrix[e][s] = 1 # 가중치 줄땐 w\n",
    "\n",
    "\n",
    "# 세팅\n",
    "\n",
    "'''\n",
    "1. 방문 기록지\n",
    "2. 방문 예정지\n",
    "3. 출발지\n",
    "'''\n",
    "# 1. 방문 기록지\n",
    "visited1 = set() # 방법 1, in 으로 확인 \n",
    "visited2 = [0]*(V+1) # 방법2, 리스트, 방문했으면 1로 변환, 인덱스로 확인\n",
    "\n",
    "# 2. 방문 예정지, [출발지]\n",
    "stack = deque([1])\n",
    "\n",
    "\n",
    "\n",
    "\n",
    "#방문 예정지가 빌 때 까지\n",
    "while stack:\n",
    "\n",
    "    # 방문\n",
    "    cur = stack.pop()\n",
    "    visited1.add(cur) # 방문 표시\n",
    "\n",
    "    # visited2[cur] = 1\n",
    "\n",
    "    # 탐색\n",
    "    for nxt in range(V+1):\n",
    "        if not adj_matrix[cur][nxt] !=0:\n",
    "            continue\n",
    "\n",
    "        if nxt in visited:\n",
    "            continue\n",
    "\n",
    "        # if visited2[nxt]:\n",
    "        #     continue\n",
    "\n",
    "        stack.append(nxt)\n"
   ]
  },
  {
   "cell_type": "code",
   "execution_count": null,
   "metadata": {},
   "outputs": [],
   "source": [
    "from collections import deque\n",
    "\n",
    "V = int(input())\n",
    "E = int(input())\n",
    "adj_matrix = [[0]*(V+1) for _ in range(V+1)]\n",
    "\n",
    "for _ in range(E):\n",
    "    s,e = map(int, input().split())\n",
    "    adj_matrix[s][e] = 1 # 가중치 줄땐 w\n",
    "    adj_matrix[e][s] = 1 # 가중치 줄땐 w\n",
    "\n",
    "\n",
    "# 세팅\n",
    "\n",
    "'''\n",
    "1. 방문 기록지\n",
    "2. 방문 예정지\n",
    "3. 출발지\n",
    "'''\n",
    "# 1. 방문 기록지\n",
    "visited1 = set([1]) # 방법 1, in 으로 확인 \n",
    "# visited2 = [0]*(V+1) # 방법2, 리스트, 방문했으면 1로 변환, 인덱스로 확인\n",
    "\n",
    "# 2. 방문 예정지, [출발지]\n",
    "stack = deque([1])\n",
    "\n",
    "#방문 예정지가 빌 때 까지\n",
    "while stack:\n",
    "\n",
    "    # 방문\n",
    "    cur = stack.pop()\n",
    "\n",
    "    # visited2[cur] = 1\n",
    "\n",
    "    # 탐색\n",
    "    for nxt in range(V+1):\n",
    "        if not adj_matrix[cur][nxt] !=0:\n",
    "            continue\n",
    "\n",
    "        if nxt in visited:\n",
    "            continue\n",
    "\n",
    "        # if visited2[nxt]:\n",
    "        #     continue\n",
    "        visited1.add(cur) # 방문 표시\n",
    "        stack.append(nxt)\n"
   ]
  },
  {
   "cell_type": "code",
   "execution_count": null,
   "metadata": {},
   "outputs": [],
   "source": [
    "visited = set()\n",
    "\n",
    "def DFS(cur):\n",
    "    visited.add(cur)\n",
    "\n",
    "    for nxt in adj_list[cur]:\n",
    "        if nxt not in visited:\n",
    "            DFS(nxt)"
   ]
  }
 ],
 "metadata": {
  "kernelspec": {
   "display_name": "base",
   "language": "python",
   "name": "python3"
  },
  "language_info": {
   "codemirror_mode": {
    "name": "ipython",
    "version": 3
   },
   "file_extension": ".py",
   "mimetype": "text/x-python",
   "name": "python",
   "nbconvert_exporter": "python",
   "pygments_lexer": "ipython3",
   "version": "3.11.4"
  }
 },
 "nbformat": 4,
 "nbformat_minor": 2
}
